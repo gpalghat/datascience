{
 "cells": [
  {
   "cell_type": "code",
   "execution_count": 4,
   "metadata": {},
   "outputs": [
    {
     "data": {
      "text/html": [
       "'C:/Users/gpalghat006/Documents/GitHub/datasciencecoursera'"
      ],
      "text/latex": [
       "'C:/Users/gpalghat006/Documents/GitHub/datasciencecoursera'"
      ],
      "text/markdown": [
       "'C:/Users/gpalghat006/Documents/GitHub/datasciencecoursera'"
      ],
      "text/plain": [
       "[1] \"C:/Users/gpalghat006/Documents/GitHub/datasciencecoursera\""
      ]
     },
     "metadata": {},
     "output_type": "display_data"
    }
   ],
   "source": [
    "getwd()"
   ]
  },
  {
   "cell_type": "code",
   "execution_count": 1,
   "metadata": {},
   "outputs": [
    {
     "data": {
      "text/html": [
       "<table>\n",
       "<thead><tr><th scope=col>ID</th><th scope=col>Name</th><th scope=col>Age</th><th scope=col>Sex</th><th scope=col>Address</th></tr></thead>\n",
       "<tbody>\n",
       "\t<tr><td>1                                     </td><td>John Doe                              </td><td>22                                    </td><td>m                                     </td><td>one rob street, GA                    </td></tr>\n",
       "\t<tr><td>2                                     </td><td>Mango Madayan                         </td><td>33                                    </td><td>m                                     </td><td>12 winder word, collingwood, ga, 30034</td></tr>\n",
       "\t<tr><td>3                                     </td><td>Srivats Gowswami                      </td><td>44                                    </td><td>m                                     </td><td>5 RN E23, UK                          </td></tr>\n",
       "\t<tr><td>4                                     </td><td>Dena Smith                            </td><td>55                                    </td><td>f                                     </td><td>33 George st, washington DC           </td></tr>\n",
       "\t<tr><td>5                                     </td><td>Jane Doe                              </td><td>66                                    </td><td>f                                     </td><td>89 Marchicial st, toronto, Canada     </td></tr>\n",
       "</tbody>\n",
       "</table>\n"
      ],
      "text/latex": [
       "\\begin{tabular}{r|lllll}\n",
       " ID & Name & Age & Sex & Address\\\\\n",
       "\\hline\n",
       "\t 1                                      & John Doe                               & 22                                     & m                                      & one rob street, GA                    \\\\\n",
       "\t 2                                      & Mango Madayan                          & 33                                     & m                                      & 12 winder word, collingwood, ga, 30034\\\\\n",
       "\t 3                                      & Srivats Gowswami                       & 44                                     & m                                      & 5 RN E23, UK                          \\\\\n",
       "\t 4                                      & Dena Smith                             & 55                                     & f                                      & 33 George st, washington DC           \\\\\n",
       "\t 5                                      & Jane Doe                               & 66                                     & f                                      & 89 Marchicial st, toronto, Canada     \\\\\n",
       "\\end{tabular}\n"
      ],
      "text/markdown": [
       "\n",
       "ID | Name | Age | Sex | Address | \n",
       "|---|---|---|---|---|\n",
       "| 1                                      | John Doe                               | 22                                     | m                                      | one rob street, GA                     | \n",
       "| 2                                      | Mango Madayan                          | 33                                     | m                                      | 12 winder word, collingwood, ga, 30034 | \n",
       "| 3                                      | Srivats Gowswami                       | 44                                     | m                                      | 5 RN E23, UK                           | \n",
       "| 4                                      | Dena Smith                             | 55                                     | f                                      | 33 George st, washington DC            | \n",
       "| 5                                      | Jane Doe                               | 66                                     | f                                      | 89 Marchicial st, toronto, Canada      | \n",
       "\n",
       "\n"
      ],
      "text/plain": [
       "  ID Name             Age Sex Address                               \n",
       "1 1  John Doe         22  m   one rob street, GA                    \n",
       "2 2  Mango Madayan    33  m   12 winder word, collingwood, ga, 30034\n",
       "3 3  Srivats Gowswami 44  m   5 RN E23, UK                          \n",
       "4 4  Dena Smith       55  f   33 George st, washington DC           \n",
       "5 5  Jane Doe         66  f   89 Marchicial st, toronto, Canada     "
      ]
     },
     "metadata": {},
     "output_type": "display_data"
    }
   ],
   "source": [
    "read.csv(\"test.csv\", header = TRUE, sep=\",\")"
   ]
  },
  {
   "cell_type": "code",
   "execution_count": 16,
   "metadata": {},
   "outputs": [
    {
     "data": {
      "text/html": [
       "<dl>\n",
       "\t<dt>$foo</dt>\n",
       "\t\t<dd><ol class=list-inline>\n",
       "\t<li>1</li>\n",
       "\t<li>2</li>\n",
       "\t<li>3</li>\n",
       "\t<li>4</li>\n",
       "</ol>\n",
       "</dd>\n",
       "\t<dt>$baz</dt>\n",
       "\t\t<dd>'hello'</dd>\n",
       "</dl>\n"
      ],
      "text/latex": [
       "\\begin{description}\n",
       "\\item[\\$foo] \\begin{enumerate*}\n",
       "\\item 1\n",
       "\\item 2\n",
       "\\item 3\n",
       "\\item 4\n",
       "\\end{enumerate*}\n",
       "\n",
       "\\item[\\$baz] 'hello'\n",
       "\\end{description}\n"
      ],
      "text/markdown": [
       "$foo\n",
       ":   1. 1\n",
       "2. 2\n",
       "3. 3\n",
       "4. 4\n",
       "\n",
       "\n",
       "\n",
       "$baz\n",
       ":   'hello'\n",
       "\n",
       "\n"
      ],
      "text/plain": [
       "$foo\n",
       "[1] 1 2 3 4\n",
       "\n",
       "$baz\n",
       "[1] \"hello\"\n"
      ]
     },
     "metadata": {},
     "output_type": "display_data"
    }
   ],
   "source": [
    "x<-list(foo=1:4, bar=0.6, baz=\"hello\")\n",
    "x[c(1,3)]  #Single bracket gives a list, double backets the value"
   ]
  },
  {
   "cell_type": "code",
   "execution_count": 15,
   "metadata": {},
   "outputs": [
    {
     "data": {
      "text/html": [
       "0.6"
      ],
      "text/latex": [
       "0.6"
      ],
      "text/markdown": [
       "0.6"
      ],
      "text/plain": [
       "[1] 0.6"
      ]
     },
     "metadata": {},
     "output_type": "display_data"
    }
   ],
   "source": [
    "x[[\"bar\"]]"
   ]
  },
  {
   "cell_type": "code",
   "execution_count": 19,
   "metadata": {},
   "outputs": [
    {
     "data": {
      "text/html": [
       "<table>\n",
       "<tbody>\n",
       "\t<tr><td>1</td><td>3</td><td>5</td></tr>\n",
       "\t<tr><td>2</td><td>4</td><td>6</td></tr>\n",
       "</tbody>\n",
       "</table>\n"
      ],
      "text/latex": [
       "\\begin{tabular}{lll}\n",
       "\t 1 & 3 & 5\\\\\n",
       "\t 2 & 4 & 6\\\\\n",
       "\\end{tabular}\n"
      ],
      "text/markdown": [
       "\n",
       "| 1 | 3 | 5 | \n",
       "| 2 | 4 | 6 | \n",
       "\n",
       "\n"
      ],
      "text/plain": [
       "     [,1] [,2] [,3]\n",
       "[1,] 1    3    5   \n",
       "[2,] 2    4    6   "
      ]
     },
     "metadata": {},
     "output_type": "display_data"
    },
    {
     "data": {
      "text/html": [
       "3"
      ],
      "text/latex": [
       "3"
      ],
      "text/markdown": [
       "3"
      ],
      "text/plain": [
       "[1] 3"
      ]
     },
     "metadata": {},
     "output_type": "display_data"
    },
    {
     "data": {
      "text/html": [
       "2"
      ],
      "text/latex": [
       "2"
      ],
      "text/markdown": [
       "2"
      ],
      "text/plain": [
       "[1] 2"
      ]
     },
     "metadata": {},
     "output_type": "display_data"
    }
   ],
   "source": [
    "x<-matrix(1:6,2,3)\n",
    "x\n",
    "x[1,2]\n",
    "x[2,1]"
   ]
  },
  {
   "cell_type": "code",
   "execution_count": 20,
   "metadata": {},
   "outputs": [
    {
     "data": {
      "text/html": [
       "<table>\n",
       "<tbody>\n",
       "\t<tr><td>1</td></tr>\n",
       "</tbody>\n",
       "</table>\n"
      ],
      "text/latex": [
       "\\begin{tabular}{l}\n",
       "\t 1\\\\\n",
       "\\end{tabular}\n"
      ],
      "text/markdown": [
       "\n",
       "| 1 | \n",
       "\n",
       "\n"
      ],
      "text/plain": [
       "     [,1]\n",
       "[1,] 1   "
      ]
     },
     "metadata": {},
     "output_type": "display_data"
    }
   ],
   "source": [
    "x[1,1,drop=FALSE]"
   ]
  },
  {
   "cell_type": "code",
   "execution_count": 23,
   "metadata": {},
   "outputs": [
    {
     "data": {
      "text/html": [
       "<ol class=list-inline>\n",
       "\t<li>1</li>\n",
       "\t<li>2</li>\n",
       "\t<li>4</li>\n",
       "\t<li>5</li>\n",
       "</ol>\n"
      ],
      "text/latex": [
       "\\begin{enumerate*}\n",
       "\\item 1\n",
       "\\item 2\n",
       "\\item 4\n",
       "\\item 5\n",
       "\\end{enumerate*}\n"
      ],
      "text/markdown": [
       "1. 1\n",
       "2. 2\n",
       "3. 4\n",
       "4. 5\n",
       "\n",
       "\n"
      ],
      "text/plain": [
       "[1] 1 2 4 5"
      ]
     },
     "metadata": {},
     "output_type": "display_data"
    }
   ],
   "source": [
    "x<-c(1,2,NA,4,NA,5)\n",
    "bad <-is.na(x)\n",
    "x[!bad]"
   ]
  },
  {
   "cell_type": "code",
   "execution_count": 25,
   "metadata": {},
   "outputs": [
    {
     "data": {
      "text/html": [
       "<ol class=list-inline>\n",
       "\t<li>1</li>\n",
       "\t<li>2</li>\n",
       "\t<li>4</li>\n",
       "\t<li>5</li>\n",
       "</ol>\n"
      ],
      "text/latex": [
       "\\begin{enumerate*}\n",
       "\\item 1\n",
       "\\item 2\n",
       "\\item 4\n",
       "\\item 5\n",
       "\\end{enumerate*}\n"
      ],
      "text/markdown": [
       "1. 1\n",
       "2. 2\n",
       "3. 4\n",
       "4. 5\n",
       "\n",
       "\n"
      ],
      "text/plain": [
       "[1] 1 2 4 5"
      ]
     },
     "metadata": {},
     "output_type": "display_data"
    }
   ],
   "source": [
    "x<-c(1,2,NaN,4,NaN,5)\n",
    "bad <-is.na(x)\n",
    "x[!bad]"
   ]
  },
  {
   "cell_type": "code",
   "execution_count": 41,
   "metadata": {},
   "outputs": [
    {
     "data": {
      "text/html": [
       "<table>\n",
       "<tbody>\n",
       "\t<tr><td>1</td><td>1</td><td>1</td><td>1</td></tr>\n",
       "\t<tr><td>2</td><td>2</td><td>2</td><td>2</td></tr>\n",
       "\t<tr><td>1</td><td>1</td><td>1</td><td>1</td></tr>\n",
       "\t<tr><td>2</td><td>2</td><td>2</td><td>2</td></tr>\n",
       "</tbody>\n",
       "</table>\n"
      ],
      "text/latex": [
       "\\begin{tabular}{llll}\n",
       "\t 1 & 1 & 1 & 1\\\\\n",
       "\t 2 & 2 & 2 & 2\\\\\n",
       "\t 1 & 1 & 1 & 1\\\\\n",
       "\t 2 & 2 & 2 & 2\\\\\n",
       "\\end{tabular}\n"
      ],
      "text/markdown": [
       "\n",
       "| 1 | 1 | 1 | 1 | \n",
       "| 2 | 2 | 2 | 2 | \n",
       "| 1 | 1 | 1 | 1 | \n",
       "| 2 | 2 | 2 | 2 | \n",
       "\n",
       "\n"
      ],
      "text/plain": [
       "     [,1] [,2] [,3] [,4]\n",
       "[1,] 1    1    1    1   \n",
       "[2,] 2    2    2    2   \n",
       "[3,] 1    1    1    1   \n",
       "[4,] 2    2    2    2   "
      ]
     },
     "metadata": {},
     "output_type": "display_data"
    },
    {
     "data": {
      "text/html": [
       "<table>\n",
       "<tbody>\n",
       "\t<tr><td>10</td><td>10</td><td>10</td><td>10</td></tr>\n",
       "\t<tr><td>10</td><td>10</td><td>10</td><td>10</td></tr>\n",
       "\t<tr><td>10</td><td>10</td><td>10</td><td>10</td></tr>\n",
       "\t<tr><td>10</td><td>10</td><td>10</td><td>10</td></tr>\n",
       "</tbody>\n",
       "</table>\n"
      ],
      "text/latex": [
       "\\begin{tabular}{llll}\n",
       "\t 10 & 10 & 10 & 10\\\\\n",
       "\t 10 & 10 & 10 & 10\\\\\n",
       "\t 10 & 10 & 10 & 10\\\\\n",
       "\t 10 & 10 & 10 & 10\\\\\n",
       "\\end{tabular}\n"
      ],
      "text/markdown": [
       "\n",
       "| 10 | 10 | 10 | 10 | \n",
       "| 10 | 10 | 10 | 10 | \n",
       "| 10 | 10 | 10 | 10 | \n",
       "| 10 | 10 | 10 | 10 | \n",
       "\n",
       "\n"
      ],
      "text/plain": [
       "     [,1] [,2] [,3] [,4]\n",
       "[1,] 10   10   10   10  \n",
       "[2,] 10   10   10   10  \n",
       "[3,] 10   10   10   10  \n",
       "[4,] 10   10   10   10  "
      ]
     },
     "metadata": {},
     "output_type": "display_data"
    },
    {
     "data": {
      "text/html": [
       "<table>\n",
       "<tbody>\n",
       "\t<tr><td>10</td><td>10</td><td>10</td><td>10</td></tr>\n",
       "\t<tr><td>20</td><td>20</td><td>20</td><td>20</td></tr>\n",
       "\t<tr><td>10</td><td>10</td><td>10</td><td>10</td></tr>\n",
       "\t<tr><td>20</td><td>20</td><td>20</td><td>20</td></tr>\n",
       "</tbody>\n",
       "</table>\n"
      ],
      "text/latex": [
       "\\begin{tabular}{llll}\n",
       "\t 10 & 10 & 10 & 10\\\\\n",
       "\t 20 & 20 & 20 & 20\\\\\n",
       "\t 10 & 10 & 10 & 10\\\\\n",
       "\t 20 & 20 & 20 & 20\\\\\n",
       "\\end{tabular}\n"
      ],
      "text/markdown": [
       "\n",
       "| 10 | 10 | 10 | 10 | \n",
       "| 20 | 20 | 20 | 20 | \n",
       "| 10 | 10 | 10 | 10 | \n",
       "| 20 | 20 | 20 | 20 | \n",
       "\n",
       "\n"
      ],
      "text/plain": [
       "     [,1] [,2] [,3] [,4]\n",
       "[1,] 10   10   10   10  \n",
       "[2,] 20   20   20   20  \n",
       "[3,] 10   10   10   10  \n",
       "[4,] 20   20   20   20  "
      ]
     },
     "metadata": {},
     "output_type": "display_data"
    },
    {
     "data": {
      "text/html": [
       "<table>\n",
       "<tbody>\n",
       "\t<tr><td>0.1</td><td>0.1</td><td>0.1</td><td>0.1</td></tr>\n",
       "\t<tr><td>0.2</td><td>0.2</td><td>0.2</td><td>0.2</td></tr>\n",
       "\t<tr><td>0.1</td><td>0.1</td><td>0.1</td><td>0.1</td></tr>\n",
       "\t<tr><td>0.2</td><td>0.2</td><td>0.2</td><td>0.2</td></tr>\n",
       "</tbody>\n",
       "</table>\n"
      ],
      "text/latex": [
       "\\begin{tabular}{llll}\n",
       "\t 0.1 & 0.1 & 0.1 & 0.1\\\\\n",
       "\t 0.2 & 0.2 & 0.2 & 0.2\\\\\n",
       "\t 0.1 & 0.1 & 0.1 & 0.1\\\\\n",
       "\t 0.2 & 0.2 & 0.2 & 0.2\\\\\n",
       "\\end{tabular}\n"
      ],
      "text/markdown": [
       "\n",
       "| 0.1 | 0.1 | 0.1 | 0.1 | \n",
       "| 0.2 | 0.2 | 0.2 | 0.2 | \n",
       "| 0.1 | 0.1 | 0.1 | 0.1 | \n",
       "| 0.2 | 0.2 | 0.2 | 0.2 | \n",
       "\n",
       "\n"
      ],
      "text/plain": [
       "     [,1] [,2] [,3] [,4]\n",
       "[1,] 0.1  0.1  0.1  0.1 \n",
       "[2,] 0.2  0.2  0.2  0.2 \n",
       "[3,] 0.1  0.1  0.1  0.1 \n",
       "[4,] 0.2  0.2  0.2  0.2 "
      ]
     },
     "metadata": {},
     "output_type": "display_data"
    },
    {
     "data": {
      "text/html": [
       "<table>\n",
       "<tbody>\n",
       "\t<tr><td>40</td><td>40</td><td>40</td><td>40</td></tr>\n",
       "\t<tr><td>80</td><td>80</td><td>80</td><td>80</td></tr>\n",
       "\t<tr><td>40</td><td>40</td><td>40</td><td>40</td></tr>\n",
       "\t<tr><td>80</td><td>80</td><td>80</td><td>80</td></tr>\n",
       "</tbody>\n",
       "</table>\n"
      ],
      "text/latex": [
       "\\begin{tabular}{llll}\n",
       "\t 40 & 40 & 40 & 40\\\\\n",
       "\t 80 & 80 & 80 & 80\\\\\n",
       "\t 40 & 40 & 40 & 40\\\\\n",
       "\t 80 & 80 & 80 & 80\\\\\n",
       "\\end{tabular}\n"
      ],
      "text/markdown": [
       "\n",
       "| 40 | 40 | 40 | 40 | \n",
       "| 80 | 80 | 80 | 80 | \n",
       "| 40 | 40 | 40 | 40 | \n",
       "| 80 | 80 | 80 | 80 | \n",
       "\n",
       "\n"
      ],
      "text/plain": [
       "     [,1] [,2] [,3] [,4]\n",
       "[1,] 40   40   40   40  \n",
       "[2,] 80   80   80   80  \n",
       "[3,] 40   40   40   40  \n",
       "[4,] 80   80   80   80  "
      ]
     },
     "metadata": {},
     "output_type": "display_data"
    }
   ],
   "source": [
    "y<-matrix(rep(10,16),4,4)\n",
    "x<-matrix(1:2, 4,4)\n",
    "x\n",
    "y\n",
    "x*y\n",
    "x/y\n",
    "x%*%y"
   ]
  },
  {
   "cell_type": "code",
   "execution_count": 46,
   "metadata": {},
   "outputs": [
    {
     "data": {
      "text/html": [
       "'double'"
      ],
      "text/latex": [
       "'double'"
      ],
      "text/markdown": [
       "'double'"
      ],
      "text/plain": [
       "[1] \"double\""
      ]
     },
     "metadata": {},
     "output_type": "display_data"
    },
    {
     "data": {
      "text/html": [
       "'double'"
      ],
      "text/latex": [
       "'double'"
      ],
      "text/markdown": [
       "'double'"
      ],
      "text/plain": [
       "[1] \"double\""
      ]
     },
     "metadata": {},
     "output_type": "display_data"
    }
   ],
   "source": [
    "z<-c(FALSE,4)\n",
    "typeof(z)\n",
    "l<-c(TRUE,4)\n",
    "typeof(l)"
   ]
  },
  {
   "cell_type": "code",
   "execution_count": 57,
   "metadata": {},
   "outputs": [
    {
     "data": {
      "text/html": [
       "<table>\n",
       "<tbody>\n",
       "\t<tr><th scope=row>x</th><td>1 </td><td>3 </td><td> 5</td></tr>\n",
       "\t<tr><th scope=row>y</th><td>3 </td><td>2 </td><td>10</td></tr>\n",
       "</tbody>\n",
       "</table>\n"
      ],
      "text/latex": [
       "\\begin{tabular}{r|lll}\n",
       "\tx & 1  & 3  &  5\\\\\n",
       "\ty & 3  & 2  & 10\\\\\n",
       "\\end{tabular}\n"
      ],
      "text/markdown": [
       "\n",
       "| x | 1  | 3  |  5 | \n",
       "| y | 3  | 2  | 10 | \n",
       "\n",
       "\n"
      ],
      "text/plain": [
       "  [,1] [,2] [,3]\n",
       "x 1    3     5  \n",
       "y 3    2    10  "
      ]
     },
     "metadata": {},
     "output_type": "display_data"
    }
   ],
   "source": [
    "x <- c(1,3, 5) \n",
    "y <- c(3, 2, 10)\n",
    "#x\n",
    "#y\n",
    "#merge(x,y)\n",
    "l<-rbind(x,y)\n",
    "l"
   ]
  },
  {
   "cell_type": "code",
   "execution_count": 56,
   "metadata": {},
   "outputs": [
    {
     "data": {
      "text/html": [
       "<strong>x:</strong> 3"
      ],
      "text/latex": [
       "\\textbf{x:} 3"
      ],
      "text/markdown": [
       "**x:** 3"
      ],
      "text/plain": [
       "x \n",
       "3 "
      ]
     },
     "metadata": {},
     "output_type": "display_data"
    }
   ],
   "source": [
    "l[1,2]"
   ]
  },
  {
   "cell_type": "code",
   "execution_count": 58,
   "metadata": {},
   "outputs": [
    {
     "data": {
      "text/html": [
       "<ol>\n",
       "\t<li>2</li>\n",
       "\t<li>'a'</li>\n",
       "\t<li>'b'</li>\n",
       "\t<li>TRUE</li>\n",
       "</ol>\n"
      ],
      "text/latex": [
       "\\begin{enumerate}\n",
       "\\item 2\n",
       "\\item 'a'\n",
       "\\item 'b'\n",
       "\\item TRUE\n",
       "\\end{enumerate}\n"
      ],
      "text/markdown": [
       "1. 2\n",
       "2. 'a'\n",
       "3. 'b'\n",
       "4. TRUE\n",
       "\n",
       "\n"
      ],
      "text/plain": [
       "[[1]]\n",
       "[1] 2\n",
       "\n",
       "[[2]]\n",
       "[1] \"a\"\n",
       "\n",
       "[[3]]\n",
       "[1] \"b\"\n",
       "\n",
       "[[4]]\n",
       "[1] TRUE\n"
      ]
     },
     "metadata": {},
     "output_type": "display_data"
    },
    {
     "data": {
      "text/html": [
       "<ol>\n",
       "\t<li>'a'</li>\n",
       "</ol>\n"
      ],
      "text/latex": [
       "\\begin{enumerate}\n",
       "\\item 'a'\n",
       "\\end{enumerate}\n"
      ],
      "text/markdown": [
       "1. 'a'\n",
       "\n",
       "\n"
      ],
      "text/plain": [
       "[[1]]\n",
       "[1] \"a\"\n"
      ]
     },
     "metadata": {},
     "output_type": "display_data"
    }
   ],
   "source": [
    "x <- list(2, \"a\", \"b\", TRUE)\n",
    "x\n",
    "x[2]"
   ]
  },
  {
   "cell_type": "code",
   "execution_count": 59,
   "metadata": {},
   "outputs": [
    {
     "data": {
      "text/html": [
       "'a'"
      ],
      "text/latex": [
       "'a'"
      ],
      "text/markdown": [
       "'a'"
      ],
      "text/plain": [
       "[1] \"a\""
      ]
     },
     "metadata": {},
     "output_type": "display_data"
    }
   ],
   "source": [
    "x[[2]]"
   ]
  },
  {
   "cell_type": "code",
   "execution_count": 92,
   "metadata": {},
   "outputs": [
    {
     "ename": "ERROR",
     "evalue": "Error in count(x[\"Ozone\"]): could not find function \"count\"\n",
     "output_type": "error",
     "traceback": [
      "Error in count(x[\"Ozone\"]): could not find function \"count\"\nTraceback:\n"
     ]
    }
   ],
   "source": [
    "x<-read.csv(\"hw1_data.csv\", header = TRUE, sep=\",\")\n",
    "#colnames(x)\n",
    "#x[1:2,]\n",
    "#n=nrow(x)\n",
    "#tail(x,n=2)\n",
    "#head(x,n=47)\n",
    "#x[[47]]\n",
    "#x[\"Ozone\"]\n",
    "#bad <-is.na(x[\"Ozone\"])\n",
    "#nrow(!bad)\n",
    "#a<-table(x[\"Ozone\"])\n",
    "#a[names(a)=='NA']\n",
    "count(x[\"Ozone\"])"
   ]
  },
  {
   "cell_type": "code",
   "execution_count": 106,
   "metadata": {},
   "outputs": [
    {
     "data": {
      "text/html": [
       "42.1293103448276"
      ],
      "text/latex": [
       "42.1293103448276"
      ],
      "text/markdown": [
       "42.1293103448276"
      ],
      "text/plain": [
       "[1] 42.12931"
      ]
     },
     "metadata": {},
     "output_type": "display_data"
    }
   ],
   "source": [
    "#library(plyr)\n",
    "#?count\n",
    "#count(x[\"Ozone\"])\n",
    "l<-subset(x[\"Ozone\"], x[\"Ozone\"]!=\"NA\")\n",
    "#mean(l$Ozone)\n",
    "#mean(l[,1])\n",
    "mean(l[[\"Ozone\"]])"
   ]
  },
  {
   "cell_type": "code",
   "execution_count": 117,
   "metadata": {},
   "outputs": [
    {
     "data": {
      "text/html": [
       "<table>\n",
       "<thead><tr><th></th><th scope=col>Ozone</th><th scope=col>Solar.R</th><th scope=col>Wind</th><th scope=col>Temp</th><th scope=col>Month</th><th scope=col>Day</th></tr></thead>\n",
       "<tbody>\n",
       "\t<tr><th scope=row>69</th><td> 97</td><td>267</td><td>6.3</td><td>92 </td><td>7  </td><td> 8 </td></tr>\n",
       "\t<tr><th scope=row>70</th><td> 97</td><td>272</td><td>5.7</td><td>92 </td><td>7  </td><td> 9 </td></tr>\n",
       "\t<tr><th scope=row>120</th><td> 76</td><td>203</td><td>9.7</td><td>97 </td><td>8  </td><td>28 </td></tr>\n",
       "\t<tr><th scope=row>121</th><td>118</td><td>225</td><td>2.3</td><td>94 </td><td>8  </td><td>29 </td></tr>\n",
       "\t<tr><th scope=row>122</th><td> 84</td><td>237</td><td>6.3</td><td>96 </td><td>8  </td><td>30 </td></tr>\n",
       "\t<tr><th scope=row>123</th><td> 85</td><td>188</td><td>6.3</td><td>94 </td><td>8  </td><td>31 </td></tr>\n",
       "\t<tr><th scope=row>124</th><td> 96</td><td>167</td><td>6.9</td><td>91 </td><td>9  </td><td> 1 </td></tr>\n",
       "\t<tr><th scope=row>125</th><td> 78</td><td>197</td><td>5.1</td><td>92 </td><td>9  </td><td> 2 </td></tr>\n",
       "\t<tr><th scope=row>126</th><td> 73</td><td>183</td><td>2.8</td><td>93 </td><td>9  </td><td> 3 </td></tr>\n",
       "\t<tr><th scope=row>127</th><td> 91</td><td>189</td><td>4.6</td><td>93 </td><td>9  </td><td> 4 </td></tr>\n",
       "</tbody>\n",
       "</table>\n"
      ],
      "text/latex": [
       "\\begin{tabular}{r|llllll}\n",
       "  & Ozone & Solar.R & Wind & Temp & Month & Day\\\\\n",
       "\\hline\n",
       "\t69 &  97 & 267 & 6.3 & 92  & 7   &  8 \\\\\n",
       "\t70 &  97 & 272 & 5.7 & 92  & 7   &  9 \\\\\n",
       "\t120 &  76 & 203 & 9.7 & 97  & 8   & 28 \\\\\n",
       "\t121 & 118 & 225 & 2.3 & 94  & 8   & 29 \\\\\n",
       "\t122 &  84 & 237 & 6.3 & 96  & 8   & 30 \\\\\n",
       "\t123 &  85 & 188 & 6.3 & 94  & 8   & 31 \\\\\n",
       "\t124 &  96 & 167 & 6.9 & 91  & 9   &  1 \\\\\n",
       "\t125 &  78 & 197 & 5.1 & 92  & 9   &  2 \\\\\n",
       "\t126 &  73 & 183 & 2.8 & 93  & 9   &  3 \\\\\n",
       "\t127 &  91 & 189 & 4.6 & 93  & 9   &  4 \\\\\n",
       "\\end{tabular}\n"
      ],
      "text/markdown": [
       "\n",
       "| <!--/--> | Ozone | Solar.R | Wind | Temp | Month | Day | \n",
       "|---|---|---|---|---|---|---|---|---|---|\n",
       "| 69 |  97 | 267 | 6.3 | 92  | 7   |  8  | \n",
       "| 70 |  97 | 272 | 5.7 | 92  | 7   |  9  | \n",
       "| 120 |  76 | 203 | 9.7 | 97  | 8   | 28  | \n",
       "| 121 | 118 | 225 | 2.3 | 94  | 8   | 29  | \n",
       "| 122 |  84 | 237 | 6.3 | 96  | 8   | 30  | \n",
       "| 123 |  85 | 188 | 6.3 | 94  | 8   | 31  | \n",
       "| 124 |  96 | 167 | 6.9 | 91  | 9   |  1  | \n",
       "| 125 |  78 | 197 | 5.1 | 92  | 9   |  2  | \n",
       "| 126 |  73 | 183 | 2.8 | 93  | 9   |  3  | \n",
       "| 127 |  91 | 189 | 4.6 | 93  | 9   |  4  | \n",
       "\n",
       "\n"
      ],
      "text/plain": [
       "    Ozone Solar.R Wind Temp Month Day\n",
       "69   97   267     6.3  92   7      8 \n",
       "70   97   272     5.7  92   7      9 \n",
       "120  76   203     9.7  97   8     28 \n",
       "121 118   225     2.3  94   8     29 \n",
       "122  84   237     6.3  96   8     30 \n",
       "123  85   188     6.3  94   8     31 \n",
       "124  96   167     6.9  91   9      1 \n",
       "125  78   197     5.1  92   9      2 \n",
       "126  73   183     2.8  93   9      3 \n",
       "127  91   189     4.6  93   9      4 "
      ]
     },
     "metadata": {},
     "output_type": "display_data"
    },
    {
     "data": {
      "text/html": [
       "212.8"
      ],
      "text/latex": [
       "212.8"
      ],
      "text/markdown": [
       "212.8"
      ],
      "text/plain": [
       "[1] 212.8"
      ]
     },
     "metadata": {},
     "output_type": "display_data"
    }
   ],
   "source": [
    "m<-subset(x,x[\"Ozone\"]>31 & x[\"Temp\"]>90)\n",
    "m\n",
    "mean(m[[\"Solar.R\"]])"
   ]
  },
  {
   "cell_type": "code",
   "execution_count": 119,
   "metadata": {},
   "outputs": [
    {
     "data": {
      "text/html": [
       "<table>\n",
       "<thead><tr><th></th><th scope=col>Ozone</th><th scope=col>Solar.R</th><th scope=col>Wind</th><th scope=col>Temp</th><th scope=col>Month</th><th scope=col>Day</th></tr></thead>\n",
       "<tbody>\n",
       "\t<tr><th scope=row>32</th><td>NA  </td><td>286 </td><td> 8.6</td><td>78  </td><td>6   </td><td> 1  </td></tr>\n",
       "\t<tr><th scope=row>33</th><td>NA  </td><td>287 </td><td> 9.7</td><td>74  </td><td>6   </td><td> 2  </td></tr>\n",
       "\t<tr><th scope=row>34</th><td>NA  </td><td>242 </td><td>16.1</td><td>67  </td><td>6   </td><td> 3  </td></tr>\n",
       "\t<tr><th scope=row>35</th><td>NA  </td><td>186 </td><td> 9.2</td><td>84  </td><td>6   </td><td> 4  </td></tr>\n",
       "\t<tr><th scope=row>36</th><td>NA  </td><td>220 </td><td> 8.6</td><td>85  </td><td>6   </td><td> 5  </td></tr>\n",
       "\t<tr><th scope=row>37</th><td>NA  </td><td>264 </td><td>14.3</td><td>79  </td><td>6   </td><td> 6  </td></tr>\n",
       "\t<tr><th scope=row>38</th><td>29  </td><td>127 </td><td> 9.7</td><td>82  </td><td>6   </td><td> 7  </td></tr>\n",
       "\t<tr><th scope=row>39</th><td>NA  </td><td>273 </td><td> 6.9</td><td>87  </td><td>6   </td><td> 8  </td></tr>\n",
       "\t<tr><th scope=row>40</th><td>71  </td><td>291 </td><td>13.8</td><td>90  </td><td>6   </td><td> 9  </td></tr>\n",
       "\t<tr><th scope=row>41</th><td>39  </td><td>323 </td><td>11.5</td><td>87  </td><td>6   </td><td>10  </td></tr>\n",
       "\t<tr><th scope=row>42</th><td>NA  </td><td>259 </td><td>10.9</td><td>93  </td><td>6   </td><td>11  </td></tr>\n",
       "\t<tr><th scope=row>43</th><td>NA  </td><td>250 </td><td> 9.2</td><td>92  </td><td>6   </td><td>12  </td></tr>\n",
       "\t<tr><th scope=row>44</th><td>23  </td><td>148 </td><td> 8.0</td><td>82  </td><td>6   </td><td>13  </td></tr>\n",
       "\t<tr><th scope=row>45</th><td>NA  </td><td>332 </td><td>13.8</td><td>80  </td><td>6   </td><td>14  </td></tr>\n",
       "\t<tr><th scope=row>46</th><td>NA  </td><td>322 </td><td>11.5</td><td>79  </td><td>6   </td><td>15  </td></tr>\n",
       "\t<tr><th scope=row>47</th><td>21  </td><td>191 </td><td>14.9</td><td>77  </td><td>6   </td><td>16  </td></tr>\n",
       "\t<tr><th scope=row>48</th><td>37  </td><td>284 </td><td>20.7</td><td>72  </td><td>6   </td><td>17  </td></tr>\n",
       "\t<tr><th scope=row>49</th><td>20  </td><td> 37 </td><td> 9.2</td><td>65  </td><td>6   </td><td>18  </td></tr>\n",
       "\t<tr><th scope=row>50</th><td>12  </td><td>120 </td><td>11.5</td><td>73  </td><td>6   </td><td>19  </td></tr>\n",
       "\t<tr><th scope=row>51</th><td>13  </td><td>137 </td><td>10.3</td><td>76  </td><td>6   </td><td>20  </td></tr>\n",
       "\t<tr><th scope=row>52</th><td>NA  </td><td>150 </td><td> 6.3</td><td>77  </td><td>6   </td><td>21  </td></tr>\n",
       "\t<tr><th scope=row>53</th><td>NA  </td><td> 59 </td><td> 1.7</td><td>76  </td><td>6   </td><td>22  </td></tr>\n",
       "\t<tr><th scope=row>54</th><td>NA  </td><td> 91 </td><td> 4.6</td><td>76  </td><td>6   </td><td>23  </td></tr>\n",
       "\t<tr><th scope=row>55</th><td>NA  </td><td>250 </td><td> 6.3</td><td>76  </td><td>6   </td><td>24  </td></tr>\n",
       "\t<tr><th scope=row>56</th><td>NA  </td><td>135 </td><td> 8.0</td><td>75  </td><td>6   </td><td>25  </td></tr>\n",
       "\t<tr><th scope=row>57</th><td>NA  </td><td>127 </td><td> 8.0</td><td>78  </td><td>6   </td><td>26  </td></tr>\n",
       "\t<tr><th scope=row>58</th><td>NA  </td><td> 47 </td><td>10.3</td><td>73  </td><td>6   </td><td>27  </td></tr>\n",
       "\t<tr><th scope=row>59</th><td>NA  </td><td> 98 </td><td>11.5</td><td>80  </td><td>6   </td><td>28  </td></tr>\n",
       "\t<tr><th scope=row>60</th><td>NA  </td><td> 31 </td><td>14.9</td><td>77  </td><td>6   </td><td>29  </td></tr>\n",
       "\t<tr><th scope=row>61</th><td>NA  </td><td>138 </td><td> 8.0</td><td>83  </td><td>6   </td><td>30  </td></tr>\n",
       "</tbody>\n",
       "</table>\n"
      ],
      "text/latex": [
       "\\begin{tabular}{r|llllll}\n",
       "  & Ozone & Solar.R & Wind & Temp & Month & Day\\\\\n",
       "\\hline\n",
       "\t32 & NA   & 286  &  8.6 & 78   & 6    &  1  \\\\\n",
       "\t33 & NA   & 287  &  9.7 & 74   & 6    &  2  \\\\\n",
       "\t34 & NA   & 242  & 16.1 & 67   & 6    &  3  \\\\\n",
       "\t35 & NA   & 186  &  9.2 & 84   & 6    &  4  \\\\\n",
       "\t36 & NA   & 220  &  8.6 & 85   & 6    &  5  \\\\\n",
       "\t37 & NA   & 264  & 14.3 & 79   & 6    &  6  \\\\\n",
       "\t38 & 29   & 127  &  9.7 & 82   & 6    &  7  \\\\\n",
       "\t39 & NA   & 273  &  6.9 & 87   & 6    &  8  \\\\\n",
       "\t40 & 71   & 291  & 13.8 & 90   & 6    &  9  \\\\\n",
       "\t41 & 39   & 323  & 11.5 & 87   & 6    & 10  \\\\\n",
       "\t42 & NA   & 259  & 10.9 & 93   & 6    & 11  \\\\\n",
       "\t43 & NA   & 250  &  9.2 & 92   & 6    & 12  \\\\\n",
       "\t44 & 23   & 148  &  8.0 & 82   & 6    & 13  \\\\\n",
       "\t45 & NA   & 332  & 13.8 & 80   & 6    & 14  \\\\\n",
       "\t46 & NA   & 322  & 11.5 & 79   & 6    & 15  \\\\\n",
       "\t47 & 21   & 191  & 14.9 & 77   & 6    & 16  \\\\\n",
       "\t48 & 37   & 284  & 20.7 & 72   & 6    & 17  \\\\\n",
       "\t49 & 20   &  37  &  9.2 & 65   & 6    & 18  \\\\\n",
       "\t50 & 12   & 120  & 11.5 & 73   & 6    & 19  \\\\\n",
       "\t51 & 13   & 137  & 10.3 & 76   & 6    & 20  \\\\\n",
       "\t52 & NA   & 150  &  6.3 & 77   & 6    & 21  \\\\\n",
       "\t53 & NA   &  59  &  1.7 & 76   & 6    & 22  \\\\\n",
       "\t54 & NA   &  91  &  4.6 & 76   & 6    & 23  \\\\\n",
       "\t55 & NA   & 250  &  6.3 & 76   & 6    & 24  \\\\\n",
       "\t56 & NA   & 135  &  8.0 & 75   & 6    & 25  \\\\\n",
       "\t57 & NA   & 127  &  8.0 & 78   & 6    & 26  \\\\\n",
       "\t58 & NA   &  47  & 10.3 & 73   & 6    & 27  \\\\\n",
       "\t59 & NA   &  98  & 11.5 & 80   & 6    & 28  \\\\\n",
       "\t60 & NA   &  31  & 14.9 & 77   & 6    & 29  \\\\\n",
       "\t61 & NA   & 138  &  8.0 & 83   & 6    & 30  \\\\\n",
       "\\end{tabular}\n"
      ],
      "text/markdown": [
       "\n",
       "| <!--/--> | Ozone | Solar.R | Wind | Temp | Month | Day | \n",
       "|---|---|---|---|---|---|---|---|---|---|---|---|---|---|---|---|---|---|---|---|---|---|---|---|---|---|---|---|---|---|\n",
       "| 32 | NA   | 286  |  8.6 | 78   | 6    |  1   | \n",
       "| 33 | NA   | 287  |  9.7 | 74   | 6    |  2   | \n",
       "| 34 | NA   | 242  | 16.1 | 67   | 6    |  3   | \n",
       "| 35 | NA   | 186  |  9.2 | 84   | 6    |  4   | \n",
       "| 36 | NA   | 220  |  8.6 | 85   | 6    |  5   | \n",
       "| 37 | NA   | 264  | 14.3 | 79   | 6    |  6   | \n",
       "| 38 | 29   | 127  |  9.7 | 82   | 6    |  7   | \n",
       "| 39 | NA   | 273  |  6.9 | 87   | 6    |  8   | \n",
       "| 40 | 71   | 291  | 13.8 | 90   | 6    |  9   | \n",
       "| 41 | 39   | 323  | 11.5 | 87   | 6    | 10   | \n",
       "| 42 | NA   | 259  | 10.9 | 93   | 6    | 11   | \n",
       "| 43 | NA   | 250  |  9.2 | 92   | 6    | 12   | \n",
       "| 44 | 23   | 148  |  8.0 | 82   | 6    | 13   | \n",
       "| 45 | NA   | 332  | 13.8 | 80   | 6    | 14   | \n",
       "| 46 | NA   | 322  | 11.5 | 79   | 6    | 15   | \n",
       "| 47 | 21   | 191  | 14.9 | 77   | 6    | 16   | \n",
       "| 48 | 37   | 284  | 20.7 | 72   | 6    | 17   | \n",
       "| 49 | 20   |  37  |  9.2 | 65   | 6    | 18   | \n",
       "| 50 | 12   | 120  | 11.5 | 73   | 6    | 19   | \n",
       "| 51 | 13   | 137  | 10.3 | 76   | 6    | 20   | \n",
       "| 52 | NA   | 150  |  6.3 | 77   | 6    | 21   | \n",
       "| 53 | NA   |  59  |  1.7 | 76   | 6    | 22   | \n",
       "| 54 | NA   |  91  |  4.6 | 76   | 6    | 23   | \n",
       "| 55 | NA   | 250  |  6.3 | 76   | 6    | 24   | \n",
       "| 56 | NA   | 135  |  8.0 | 75   | 6    | 25   | \n",
       "| 57 | NA   | 127  |  8.0 | 78   | 6    | 26   | \n",
       "| 58 | NA   |  47  | 10.3 | 73   | 6    | 27   | \n",
       "| 59 | NA   |  98  | 11.5 | 80   | 6    | 28   | \n",
       "| 60 | NA   |  31  | 14.9 | 77   | 6    | 29   | \n",
       "| 61 | NA   | 138  |  8.0 | 83   | 6    | 30   | \n",
       "\n",
       "\n"
      ],
      "text/plain": [
       "   Ozone Solar.R Wind Temp Month Day\n",
       "32 NA    286      8.6 78   6      1 \n",
       "33 NA    287      9.7 74   6      2 \n",
       "34 NA    242     16.1 67   6      3 \n",
       "35 NA    186      9.2 84   6      4 \n",
       "36 NA    220      8.6 85   6      5 \n",
       "37 NA    264     14.3 79   6      6 \n",
       "38 29    127      9.7 82   6      7 \n",
       "39 NA    273      6.9 87   6      8 \n",
       "40 71    291     13.8 90   6      9 \n",
       "41 39    323     11.5 87   6     10 \n",
       "42 NA    259     10.9 93   6     11 \n",
       "43 NA    250      9.2 92   6     12 \n",
       "44 23    148      8.0 82   6     13 \n",
       "45 NA    332     13.8 80   6     14 \n",
       "46 NA    322     11.5 79   6     15 \n",
       "47 21    191     14.9 77   6     16 \n",
       "48 37    284     20.7 72   6     17 \n",
       "49 20     37      9.2 65   6     18 \n",
       "50 12    120     11.5 73   6     19 \n",
       "51 13    137     10.3 76   6     20 \n",
       "52 NA    150      6.3 77   6     21 \n",
       "53 NA     59      1.7 76   6     22 \n",
       "54 NA     91      4.6 76   6     23 \n",
       "55 NA    250      6.3 76   6     24 \n",
       "56 NA    135      8.0 75   6     25 \n",
       "57 NA    127      8.0 78   6     26 \n",
       "58 NA     47     10.3 73   6     27 \n",
       "59 NA     98     11.5 80   6     28 \n",
       "60 NA     31     14.9 77   6     29 \n",
       "61 NA    138      8.0 83   6     30 "
      ]
     },
     "metadata": {},
     "output_type": "display_data"
    },
    {
     "data": {
      "text/html": [
       "79.1"
      ],
      "text/latex": [
       "79.1"
      ],
      "text/markdown": [
       "79.1"
      ],
      "text/plain": [
       "[1] 79.1"
      ]
     },
     "metadata": {},
     "output_type": "display_data"
    }
   ],
   "source": [
    "z<-subset(x,x[\"Month\"]==6)\n",
    "z\n",
    "mean(z[[\"Temp\"]])"
   ]
  },
  {
   "cell_type": "code",
   "execution_count": 123,
   "metadata": {},
   "outputs": [
    {
     "data": {
      "text/html": [
       "115"
      ],
      "text/latex": [
       "115"
      ],
      "text/markdown": [
       "115"
      ],
      "text/plain": [
       "[1] 115"
      ]
     },
     "metadata": {},
     "output_type": "display_data"
    }
   ],
   "source": [
    "x<-subset(x,x[\"Month\"]==5 &x[\"Ozone\"]!=\"NA\")\n",
    "#x\n",
    "max(x[[\"Ozone\"]])"
   ]
  },
  {
   "cell_type": "code",
   "execution_count": 124,
   "metadata": {},
   "outputs": [
    {
     "data": {
      "text/html": [
       "<ol class=list-inline>\n",
       "\t<li>'a'</li>\n",
       "\t<li>'bad'</li>\n",
       "\t<li>'l'</li>\n",
       "\t<li>'m'</li>\n",
       "\t<li>'n'</li>\n",
       "\t<li>'x'</li>\n",
       "\t<li>'y'</li>\n",
       "\t<li>'z'</li>\n",
       "</ol>\n"
      ],
      "text/latex": [
       "\\begin{enumerate*}\n",
       "\\item 'a'\n",
       "\\item 'bad'\n",
       "\\item 'l'\n",
       "\\item 'm'\n",
       "\\item 'n'\n",
       "\\item 'x'\n",
       "\\item 'y'\n",
       "\\item 'z'\n",
       "\\end{enumerate*}\n"
      ],
      "text/markdown": [
       "1. 'a'\n",
       "2. 'bad'\n",
       "3. 'l'\n",
       "4. 'm'\n",
       "5. 'n'\n",
       "6. 'x'\n",
       "7. 'y'\n",
       "8. 'z'\n",
       "\n",
       "\n"
      ],
      "text/plain": [
       "[1] \"a\"   \"bad\" \"l\"   \"m\"   \"n\"   \"x\"   \"y\"   \"z\"  "
      ]
     },
     "metadata": {},
     "output_type": "display_data"
    }
   ],
   "source": [
    "ls()"
   ]
  },
  {
   "cell_type": "code",
   "execution_count": 125,
   "metadata": {},
   "outputs": [],
   "source": [
    " rm(list=ls())"
   ]
  },
  {
   "cell_type": "code",
   "execution_count": 126,
   "metadata": {},
   "outputs": [
    {
     "data": {
      "text/html": [],
      "text/latex": [],
      "text/markdown": [],
      "text/plain": [
       "character(0)"
      ]
     },
     "metadata": {},
     "output_type": "display_data"
    }
   ],
   "source": [
    "ls()"
   ]
  },
  {
   "cell_type": "code",
   "execution_count": 2,
   "metadata": {},
   "outputs": [
    {
     "data": {
      "text/html": [
       "'C:/Users/gpalghat006/Documents/GitHub/datasciencecoursera'"
      ],
      "text/latex": [
       "'C:/Users/gpalghat006/Documents/GitHub/datasciencecoursera'"
      ],
      "text/markdown": [
       "'C:/Users/gpalghat006/Documents/GitHub/datasciencecoursera'"
      ],
      "text/plain": [
       "[1] \"C:/Users/gpalghat006/Documents/GitHub/datasciencecoursera\""
      ]
     },
     "metadata": {},
     "output_type": "display_data"
    }
   ],
   "source": [
    "getwd()"
   ]
  },
  {
   "cell_type": "code",
   "execution_count": 6,
   "metadata": {},
   "outputs": [
    {
     "data": {
      "text/html": [
       "10"
      ],
      "text/latex": [
       "10"
      ],
      "text/markdown": [
       "10"
      ],
      "text/plain": [
       "[1] 10"
      ]
     },
     "metadata": {},
     "output_type": "display_data"
    }
   ],
   "source": [
    "x<-4\n",
    "if (x>3){\n",
    "    y<-10\n",
    "} else {\n",
    "    y<-3\n",
    "}\n",
    "\n",
    "y"
   ]
  },
  {
   "cell_type": "code",
   "execution_count": 10,
   "metadata": {},
   "outputs": [
    {
     "name": "stdout",
     "output_type": "stream",
     "text": [
      "[1] 1\n",
      "[1] 2\n",
      "[1] 3\n",
      "[1] 4\n",
      "[1] 5\n",
      "[1] 6\n",
      "[1] 7\n",
      "[1] 8\n",
      "[1] 9\n",
      "[1] 10\n"
     ]
    }
   ],
   "source": [
    "for(i in 1:10) {\n",
    "    print(i)\n",
    "}"
   ]
  },
  {
   "cell_type": "code",
   "execution_count": null,
   "metadata": {},
   "outputs": [],
   "source": []
  }
 ],
 "metadata": {
  "kernelspec": {
   "display_name": "R",
   "language": "R",
   "name": "ir"
  },
  "language_info": {
   "codemirror_mode": "r",
   "file_extension": ".r",
   "mimetype": "text/x-r-source",
   "name": "R",
   "pygments_lexer": "r",
   "version": "3.4.3"
  }
 },
 "nbformat": 4,
 "nbformat_minor": 2
}
