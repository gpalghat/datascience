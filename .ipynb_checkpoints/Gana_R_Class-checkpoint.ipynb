{
 "cells": [
  {
   "cell_type": "code",
   "execution_count": 4,
   "metadata": {},
   "outputs": [
    {
     "data": {
      "text/html": [
       "'C:/Users/gpalghat006/Documents/GitHub/datasciencecoursera'"
      ],
      "text/latex": [
       "'C:/Users/gpalghat006/Documents/GitHub/datasciencecoursera'"
      ],
      "text/markdown": [
       "'C:/Users/gpalghat006/Documents/GitHub/datasciencecoursera'"
      ],
      "text/plain": [
       "[1] \"C:/Users/gpalghat006/Documents/GitHub/datasciencecoursera\""
      ]
     },
     "metadata": {},
     "output_type": "display_data"
    }
   ],
   "source": [
    "getwd()"
   ]
  },
  {
   "cell_type": "code",
   "execution_count": 1,
   "metadata": {},
   "outputs": [
    {
     "data": {
      "text/html": [
       "<table>\n",
       "<thead><tr><th scope=col>ID</th><th scope=col>Name</th><th scope=col>Age</th><th scope=col>Sex</th><th scope=col>Address</th></tr></thead>\n",
       "<tbody>\n",
       "\t<tr><td>1                                     </td><td>John Doe                              </td><td>22                                    </td><td>m                                     </td><td>one rob street, GA                    </td></tr>\n",
       "\t<tr><td>2                                     </td><td>Mango Madayan                         </td><td>33                                    </td><td>m                                     </td><td>12 winder word, collingwood, ga, 30034</td></tr>\n",
       "\t<tr><td>3                                     </td><td>Srivats Gowswami                      </td><td>44                                    </td><td>m                                     </td><td>5 RN E23, UK                          </td></tr>\n",
       "\t<tr><td>4                                     </td><td>Dena Smith                            </td><td>55                                    </td><td>f                                     </td><td>33 George st, washington DC           </td></tr>\n",
       "\t<tr><td>5                                     </td><td>Jane Doe                              </td><td>66                                    </td><td>f                                     </td><td>89 Marchicial st, toronto, Canada     </td></tr>\n",
       "</tbody>\n",
       "</table>\n"
      ],
      "text/latex": [
       "\\begin{tabular}{r|lllll}\n",
       " ID & Name & Age & Sex & Address\\\\\n",
       "\\hline\n",
       "\t 1                                      & John Doe                               & 22                                     & m                                      & one rob street, GA                    \\\\\n",
       "\t 2                                      & Mango Madayan                          & 33                                     & m                                      & 12 winder word, collingwood, ga, 30034\\\\\n",
       "\t 3                                      & Srivats Gowswami                       & 44                                     & m                                      & 5 RN E23, UK                          \\\\\n",
       "\t 4                                      & Dena Smith                             & 55                                     & f                                      & 33 George st, washington DC           \\\\\n",
       "\t 5                                      & Jane Doe                               & 66                                     & f                                      & 89 Marchicial st, toronto, Canada     \\\\\n",
       "\\end{tabular}\n"
      ],
      "text/markdown": [
       "\n",
       "ID | Name | Age | Sex | Address | \n",
       "|---|---|---|---|---|\n",
       "| 1                                      | John Doe                               | 22                                     | m                                      | one rob street, GA                     | \n",
       "| 2                                      | Mango Madayan                          | 33                                     | m                                      | 12 winder word, collingwood, ga, 30034 | \n",
       "| 3                                      | Srivats Gowswami                       | 44                                     | m                                      | 5 RN E23, UK                           | \n",
       "| 4                                      | Dena Smith                             | 55                                     | f                                      | 33 George st, washington DC            | \n",
       "| 5                                      | Jane Doe                               | 66                                     | f                                      | 89 Marchicial st, toronto, Canada      | \n",
       "\n",
       "\n"
      ],
      "text/plain": [
       "  ID Name             Age Sex Address                               \n",
       "1 1  John Doe         22  m   one rob street, GA                    \n",
       "2 2  Mango Madayan    33  m   12 winder word, collingwood, ga, 30034\n",
       "3 3  Srivats Gowswami 44  m   5 RN E23, UK                          \n",
       "4 4  Dena Smith       55  f   33 George st, washington DC           \n",
       "5 5  Jane Doe         66  f   89 Marchicial st, toronto, Canada     "
      ]
     },
     "metadata": {},
     "output_type": "display_data"
    }
   ],
   "source": [
    "read.csv(\"test.csv\", header = TRUE, sep=\",\")"
   ]
  },
  {
   "cell_type": "code",
   "execution_count": 16,
   "metadata": {},
   "outputs": [
    {
     "data": {
      "text/html": [
       "<dl>\n",
       "\t<dt>$foo</dt>\n",
       "\t\t<dd><ol class=list-inline>\n",
       "\t<li>1</li>\n",
       "\t<li>2</li>\n",
       "\t<li>3</li>\n",
       "\t<li>4</li>\n",
       "</ol>\n",
       "</dd>\n",
       "\t<dt>$baz</dt>\n",
       "\t\t<dd>'hello'</dd>\n",
       "</dl>\n"
      ],
      "text/latex": [
       "\\begin{description}\n",
       "\\item[\\$foo] \\begin{enumerate*}\n",
       "\\item 1\n",
       "\\item 2\n",
       "\\item 3\n",
       "\\item 4\n",
       "\\end{enumerate*}\n",
       "\n",
       "\\item[\\$baz] 'hello'\n",
       "\\end{description}\n"
      ],
      "text/markdown": [
       "$foo\n",
       ":   1. 1\n",
       "2. 2\n",
       "3. 3\n",
       "4. 4\n",
       "\n",
       "\n",
       "\n",
       "$baz\n",
       ":   'hello'\n",
       "\n",
       "\n"
      ],
      "text/plain": [
       "$foo\n",
       "[1] 1 2 3 4\n",
       "\n",
       "$baz\n",
       "[1] \"hello\"\n"
      ]
     },
     "metadata": {},
     "output_type": "display_data"
    }
   ],
   "source": [
    "x<-list(foo=1:4, bar=0.6, baz=\"hello\")\n",
    "x[c(1,3)]"
   ]
  },
  {
   "cell_type": "code",
   "execution_count": 15,
   "metadata": {},
   "outputs": [
    {
     "data": {
      "text/html": [
       "0.6"
      ],
      "text/latex": [
       "0.6"
      ],
      "text/markdown": [
       "0.6"
      ],
      "text/plain": [
       "[1] 0.6"
      ]
     },
     "metadata": {},
     "output_type": "display_data"
    }
   ],
   "source": [
    "x[[\"bar\"]]"
   ]
  },
  {
   "cell_type": "code",
   "execution_count": null,
   "metadata": {},
   "outputs": [],
   "source": []
  }
 ],
 "metadata": {
  "kernelspec": {
   "display_name": "R",
   "language": "R",
   "name": "ir"
  },
  "language_info": {
   "codemirror_mode": "r",
   "file_extension": ".r",
   "mimetype": "text/x-r-source",
   "name": "R",
   "pygments_lexer": "r",
   "version": "3.4.3"
  }
 },
 "nbformat": 4,
 "nbformat_minor": 2
}
